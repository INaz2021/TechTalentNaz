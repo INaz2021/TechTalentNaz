{
 "metadata": {
  "language_info": {
   "codemirror_mode": {
    "name": "ipython",
    "version": 3
   },
   "file_extension": ".py",
   "mimetype": "text/x-python",
   "name": "python",
   "nbconvert_exporter": "python",
   "pygments_lexer": "ipython3",
   "version": "3.8.7"
  },
  "orig_nbformat": 2,
  "kernelspec": {
   "name": "python387jvsc74a57bd01baa965d5efe3ac65b79dfc60c0d706280b1da80fedb7760faf2759126c4f253",
   "display_name": "Python 3.8.7 64-bit"
  },
  "metadata": {
   "interpreter": {
    "hash": "1baa965d5efe3ac65b79dfc60c0d706280b1da80fedb7760faf2759126c4f253"
   }
  }
 },
 "nbformat": 4,
 "nbformat_minor": 2,
 "cells": [
  {
   "cell_type": "code",
   "execution_count": 2,
   "metadata": {},
   "outputs": [
    {
     "output_type": "stream",
     "name": "stdout",
     "text": [
      "6\n"
     ]
    }
   ],
   "source": [
    "#TASK 1\n",
    "import random\n",
    "a= random.randint(1,10)\n",
    "print(a)"
   ]
  },
  {
   "cell_type": "code",
   "execution_count": 3,
   "metadata": {},
   "outputs": [
    {
     "output_type": "stream",
     "name": "stdout",
     "text": [
      "User name is : Ali\n"
     ]
    }
   ],
   "source": [
    "name = input(\"Enter Your Name\")\n",
    "print(\"User name is :\", name)"
   ]
  },
  {
   "cell_type": "code",
   "execution_count": 12,
   "metadata": {},
   "outputs": [
    {
     "output_type": "stream",
     "name": "stdout",
     "text": [
      "Guess Number between 1 and 10\n",
      "Your guessed is wrong\n"
     ]
    }
   ],
   "source": [
    "print(\"Guess Number between 1 and 10\")\n",
    "number = int(input(\"Enter number:  \"))\n",
    "if number > 1 and number < 10:\n",
    "    print(\"Your guessed is right\")\n",
    "else:\n",
    "    print(\"Your guessed is wrong\")"
   ]
  },
  {
   "cell_type": "code",
   "execution_count": 17,
   "metadata": {},
   "outputs": [
    {
     "output_type": "stream",
     "name": "stdout",
     "text": [
      "Number out of range\n"
     ]
    }
   ],
   "source": [
    "#TASK 2:\n",
    "num = int(input(\"Enter Your Favourite Number between 1 and 100\"))\n",
    "if num == 1:\n",
    "    print('''What did the science book say to the math book?\n",
    "    \"Wow! You’ve got problems.''')\n",
    "elif num == 2:\n",
    "    print('''What does the ocean do when it sees its friends?\n",
    "    \"It waves!''')\n",
    "\n",
    "elif num == 3:\n",
    "    print('''\n",
    "    What do you give a sick lemon?\n",
    "    Lemon-aid''')\n",
    "else:\n",
    "    print(\"Number out of range\")"
   ]
  },
  {
   "cell_type": "code",
   "execution_count": 144,
   "metadata": {},
   "outputs": [
    {
     "output_type": "stream",
     "name": "stdout",
     "text": [
      "Your favourite meal is  cancel,  ,   with glass of \n"
     ]
    }
   ],
   "source": [
    "#TASK 3:\n",
    "starter = str(input(\"Enter your favourite Starter \"))\n",
    "main_course = str(input(\"Enter your favourite main_course \"))\n",
    "dessert =str(input(\"Enter your favourite dessert \"))\n",
    "drink = str(input(\"Enter your favourite drink \"))\n",
    "print(\"Your favourite meal is \" ,starter +\",  \"+ main_course+ \",  \"+dessert +\" \"+ \"with glass of\" + \" \"+  drink)\n"
   ]
  },
  {
   "cell_type": "code",
   "execution_count": 145,
   "metadata": {
    "tags": []
   },
   "outputs": [
    {
     "output_type": "stream",
     "name": "stdout",
     "text": [
      "1800.0\n1620.0\n1458.0\n1312.2\n1180.98\n1062.882\n956.5938000000001\n"
     ]
    }
   ],
   "source": [
    "#TASK 4:\n",
    "bike=2000\n",
    "while bike >= 1000:\n",
    "    bike = bike*0.9\n",
    "    print(bike)\n",
    "\n",
    "\n",
    "\n"
   ]
  },
  {
   "cell_type": "code",
   "execution_count": null,
   "metadata": {},
   "outputs": [],
   "source": [
    "#TASK 5:\n",
    "num1=int(input(\"Enter First Number\"))\n",
    "num2= int(input(\"Enter  Second Number\"))\n",
    "value = str(input('''If you want to add numbers Enter a\n",
    "         If you want to subtract Enter b'''))\n",
    "if value == \"a\":\n",
    "    total= num1+num2\n",
    "    print(total)\n",
    "if value == \"b\":\n",
    "    total= num1-num2\n",
    "    print(total)"
   ]
  }
 ]
}