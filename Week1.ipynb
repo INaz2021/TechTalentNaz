{
 "metadata": {
  "language_info": {
   "codemirror_mode": {
    "name": "ipython",
    "version": 3
   },
   "file_extension": ".py",
   "mimetype": "text/x-python",
   "name": "python",
   "nbconvert_exporter": "python",
   "pygments_lexer": "ipython3",
   "version": "3.8.7"
  },
  "orig_nbformat": 2,
  "kernelspec": {
   "name": "python387jvsc74a57bd01baa965d5efe3ac65b79dfc60c0d706280b1da80fedb7760faf2759126c4f253",
   "display_name": "Python 3.8.7 64-bit"
  },
  "metadata": {
   "interpreter": {
    "hash": "1baa965d5efe3ac65b79dfc60c0d706280b1da80fedb7760faf2759126c4f253"
   }
  }
 },
 "nbformat": 4,
 "nbformat_minor": 2,
 "cells": [
  {
   "cell_type": "code",
   "execution_count": 15,
   "metadata": {},
   "outputs": [
    {
     "output_type": "stream",
     "name": "stdout",
     "text": [
      "5\n",
      "6\n",
      "You got it wrong John ,number was 5\n"
     ]
    }
   ],
   "source": [
    "#TASK 1\n",
    "import random\n",
    "number = random.randint(1,10)\n",
    "#print(number)\n",
    "name = input(\"Enter Your Name :\")\n",
    "guess = int(input(\"Guess a number between 1 and 10  : \"))\n",
    "#print(guess)\n",
    "\n",
    "if number == guess:\n",
    "    print(\"You got it correct!\", name)\n",
    "else:\n",
    "    print(\"You got it wrong\", name+ \" \"+ \",correct number was\" +\" \"+ str(number))\n",
    "\n"
   ]
  },
  {
   "cell_type": "code",
   "execution_count": 16,
   "metadata": {},
   "outputs": [
    {
     "output_type": "stream",
     "name": "stdout",
     "text": [
      "What does the ocean do when it sees its friends?\n    \"It waves!\n"
     ]
    }
   ],
   "source": [
    "#TASK 2:\n",
    "num = int(input(\"Enter Your Favourite Number between 1 and 100\"))\n",
    "if num == 1:\n",
    "    print('''What did the science book say to the math book?\n",
    "    \"Wow! You’ve got problems.''')\n",
    "elif num == 2:\n",
    "    print('''What does the ocean do when it sees its friends?\n",
    "    \"It waves!''')\n",
    "\n",
    "elif num == 3:\n",
    "    print('''\n",
    "    What do you give a sick lemon?\n",
    "    Lemon-aid''')\n",
    "else:\n",
    "    print(\"Number out of range\")"
   ]
  },
  {
   "cell_type": "code",
   "execution_count": 25,
   "metadata": {},
   "outputs": [
    {
     "output_type": "stream",
     "name": "stdout",
     "text": [
      "Your favourite meal is  a,  a,  a with glass of a\n"
     ]
    }
   ],
   "source": [
    "#TASK 3:\n",
    "starter = str(input(\"Enter your favourite Starter \"))\n",
    "main_course = str(input(\"Enter your favourite main_course \"))\n",
    "dessert =str(input(\"Enter your favourite dessert \"))\n",
    "drink = str(input(\"Enter your favourite drink \"))\n",
    "print(\"Your favourite meal is \" ,starter +\",  \"+ main_course+ \",  \"+dessert +\" \"+ \"with glass of\" + \" \"+  drink)\n"
   ]
  },
  {
   "cell_type": "code",
   "execution_count": 43,
   "metadata": {},
   "outputs": [
    {
     "output_type": "stream",
     "name": "stdout",
     "text": [
      "The price of bike is  2000\nThe price of bike is  1800.0\nThe price of bike is  1620.0\nThe price of bike is  1458.0\nThe price of bike is  1312.2\nThe price of bike is  1180.98\nThe price of bike is  1062.882\n"
     ]
    }
   ],
   "source": [
    "#TASK 4:\n",
    "bike = 2000\n",
    "\n",
    "while bike > 1000:\n",
    "    print(\"The price of bike is \", bike)\n",
    "    bike = bike* 0.90\n",
    "\n"
   ]
  },
  {
   "cell_type": "code",
   "execution_count": null,
   "metadata": {},
   "outputs": [],
   "source": [
    "#TASK 5:\n",
    "num1=int(input(\"Enter First Number\"))\n",
    "num2= int(input(\"Enter  Second Number\"))\n",
    "value = str(input(\"Please Enter a Operator Choice (+,-,/,*,**,%,//)\"))\n",
    "if value == \"+\":\n",
    "    print(num1+num2)\n",
    "elif value == \"-\":\n",
    "    print(num1-num2)\n",
    "elif value == \"/\":\n",
    "    print(num1/num2)\n",
    "elif value == \"*\":\n",
    "    print(num1*num2)\n",
    "elif value == \"**\":\n",
    "    print(num1**num2)\n",
    "elif value == \"%\":\n",
    "    print(num1%num2)\n",
    "elif value == \"//\":\n",
    "    print(num1//num2)\n",
    "else:\n",
    "    print(\"You Entered Invalid Operator\")\n"
   ]
  }
 ]
}