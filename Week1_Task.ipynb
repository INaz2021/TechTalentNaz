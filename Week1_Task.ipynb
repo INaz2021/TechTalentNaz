{
 "metadata": {
  "language_info": {
   "codemirror_mode": {
    "name": "ipython",
    "version": 3
   },
   "file_extension": ".py",
   "mimetype": "text/x-python",
   "name": "python",
   "nbconvert_exporter": "python",
   "pygments_lexer": "ipython3",
   "version": 3
  },
  "orig_nbformat": 2
 },
 "nbformat": 4,
 "nbformat_minor": 2,
 "cells": [
  {
   "cell_type": "code",
   "execution_count": null,
   "metadata": {},
   "outputs": [],
   "source": [
    "#TASK 1\n",
    "import random\n",
    "a= random.randint(1,10)\n",
    "print(a)"
   ]
  },
  {
   "cell_type": "code",
   "execution_count": null,
   "metadata": {},
   "outputs": [],
   "source": [
    "name = input(\"Enter Your Name\")\n",
    "print(\"User name is :\", name)"
   ]
  },
  {
   "cell_type": "code",
   "execution_count": null,
   "metadata": {},
   "outputs": [],
   "source": [
    "print(\"Guess Number between 1 and 10\")\n",
    "number = int(input(\"Enter number:  \"))\n",
    "if number > 1 and number < 10:\n",
    "    print(\"Your guessed is right\")\n",
    "else:\n",
    "    print(\"Your guessed is wrong\")"
   ]
  },
  {
   "cell_type": "code",
   "execution_count": null,
   "metadata": {},
   "outputs": [],
   "source": [
    "#TASK 2:\n",
    "num = int(input(\"Enter Your Favourite Number between 1 and 100\"))\n",
    "if num == 1:\n",
    "    print('''What did the science book say to the math book?\n",
    "    \"Wow! You’ve got problems.''')\n",
    "elif num == 2:\n",
    "    print('''What does the ocean do when it sees its friends?\n",
    "    \"It waves!''')\n",
    "\n",
    "elif num == 3:\n",
    "    print('''\n",
    "    What do you give a sick lemon?\n",
    "    Lemon-aid''')\n",
    "else:\n",
    "    print(\"Number out of range\")"
   ]
  },
  {
   "cell_type": "code",
   "execution_count": null,
   "metadata": {},
   "outputs": [],
   "source": [
    "#TASK 3:\n",
    "starter = str(input(\"Enter your favourite Starter \"))\n",
    "main_course = str(input(\"Enter your favourite main_course \"))\n",
    "dessert =str(input(\"Enter your favourite dessert \"))\n",
    "drink = str(input(\"Enter your favourite drink \"))\n",
    "print(\"Your favourite meal is \" ,starter +\",  \"+ main_course+ \",  \"+dessert +\" \"+ \"with glass of\" + \" \"+  drink)"
   ]
  },
  {
   "cell_type": "code",
   "execution_count": null,
   "metadata": {},
   "outputs": [],
   "source": [
    "#TASK 4:\n",
    "bike=2000\n",
    "while bike >= 1000:\n",
    "    bike = bike*0.9\n",
    "    print(bike)"
   ]
  },
  {
   "cell_type": "code",
   "execution_count": null,
   "metadata": {},
   "outputs": [],
   "source": [
    "#TASK 5:\n",
    "num1=int(input(\"Enter First Number\"))\n",
    "num2= int(input(\"Enter  Second Number\"))\n",
    "value = str(input('''If you want to add numbers Enter a\n",
    "         If you want to subtract Enter b'''))\n",
    "if value == \"a\":\n",
    "    total= num1+num2\n",
    "    print(total)\n",
    "if value == \"b\":\n",
    "    total= num1-num2\n",
    "    print(total)"
   ]
  }
 ]
}