{
 "metadata": {
  "language_info": {
   "codemirror_mode": {
    "name": "ipython",
    "version": 3
   },
   "file_extension": ".py",
   "mimetype": "text/x-python",
   "name": "python",
   "nbconvert_exporter": "python",
   "pygments_lexer": "ipython3",
   "version": "3.8.7"
  },
  "orig_nbformat": 2,
  "kernelspec": {
   "name": "python387jvsc74a57bd01baa965d5efe3ac65b79dfc60c0d706280b1da80fedb7760faf2759126c4f253",
   "display_name": "Python 3.8.7 64-bit"
  },
  "metadata": {
   "interpreter": {
    "hash": "1baa965d5efe3ac65b79dfc60c0d706280b1da80fedb7760faf2759126c4f253"
   }
  }
 },
 "nbformat": 4,
 "nbformat_minor": 2,
 "cells": [
  {
   "cell_type": "code",
   "execution_count": 2,
   "metadata": {},
   "outputs": [],
   "source": [
    "\n",
    "import numpy as np"
   ]
  },
  {
   "cell_type": "code",
   "execution_count": 170,
   "metadata": {},
   "outputs": [
    {
     "output_type": "stream",
     "name": "stdout",
     "text": [
      "[0 1 2 3 4 5 6 7 8 9]\n"
     ]
    }
   ],
   "source": [
    "#Task 1... 1D ARRAY\n",
    "array = np.arange(0,10)\n",
    "print(array)"
   ]
  },
  {
   "cell_type": "code",
   "execution_count": 171,
   "metadata": {},
   "outputs": [
    {
     "output_type": "stream",
     "name": "stdout",
     "text": [
      "[[ True  True  True]\n [ True  True  True]\n [ True  True  True]]\n"
     ]
    }
   ],
   "source": [
    "#Task 2...3*3 Boolean Value True\n",
    "array = np.ones((3,3), dtype=bool)\n",
    "print(array)\n"
   ]
  },
  {
   "cell_type": "code",
   "execution_count": 172,
   "metadata": {},
   "outputs": [
    {
     "output_type": "stream",
     "name": "stdout",
     "text": [
      "[1, 3, 5, 7]\n"
     ]
    }
   ],
   "source": [
    "#Task 3...ODD Number\n",
    "odd_number = []\n",
    "array = np.arange(0,9)\n",
    "for i in array:\n",
    "    if (i % 2) != 0:\n",
    "        odd_number.append(i)\n",
    "    else:\n",
    "        None\n",
    "print(odd_number)\n",
    " \n"
   ]
  },
  {
   "cell_type": "code",
   "execution_count": 173,
   "metadata": {},
   "outputs": [
    {
     "output_type": "stream",
     "name": "stdout",
     "text": [
      "[ 0  1  2  3  4  5  6  7  8  9 10]\n[ 0 -1  2 -1  4 -1  6 -1  8 -1 10]\n"
     ]
    }
   ],
   "source": [
    "#Task 4...repalce Odd Number with -1\n",
    "array = np.arange(0,11)\n",
    "print(array)\n",
    "array[array % 2 != 0] = -1\n",
    "print(array)\n"
   ]
  },
  {
   "cell_type": "code",
   "execution_count": 174,
   "metadata": {},
   "outputs": [
    {
     "output_type": "stream",
     "name": "stdout",
     "text": [
      "[[0 1 2 3 4]\n [5 6 7 8 9]]\n"
     ]
    }
   ],
   "source": [
    "#Task 5...1D array to 2D array\n",
    "array = np.arange(0,10)\n",
    "new_array = np.reshape(array, (2,5))\n",
    "print(new_array)"
   ]
  },
  {
   "cell_type": "code",
   "execution_count": 175,
   "metadata": {},
   "outputs": [
    {
     "output_type": "stream",
     "name": "stdout",
     "text": [
      "[[ 0  1  2]\n [ 3  4  5]\n [ 6  7  8]\n [10 11 12]\n [13 14 15]\n [16 17 18]]\n162\n"
     ]
    }
   ],
   "source": [
    "#Task 6...stack two array vertically and calculate total \n",
    "a = np.arange(0,9).reshape(3,3)\n",
    "b = np.arange(10,19).reshape(3,3)\n",
    "result = np.vstack((a,b))\n",
    "print(result)\n",
    "total = np.sum(result)\n",
    "print(total)"
   ]
  },
  {
   "cell_type": "code",
   "execution_count": 3,
   "metadata": {},
   "outputs": [
    {
     "output_type": "stream",
     "name": "stdout",
     "text": [
      "[1 2 3 4 5]\n[6 7 8 9]\n"
     ]
    }
   ],
   "source": [
    "#Two Array. Remove all repeating items present in second array \n",
    "a = np.array([1,2,3,4,5])\n",
    "b = np.array([ 4,5,6,7,8,9])\n",
    "\n",
    "print(a)\n",
    "res_array = np.setdiff1d(b, a)\n",
    "print(res_array)"
   ]
  },
  {
   "cell_type": "code",
   "execution_count": null,
   "metadata": {},
   "outputs": [],
   "source": []
  }
 ]
}