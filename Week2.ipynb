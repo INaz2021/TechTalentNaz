{
 "metadata": {
  "language_info": {
   "codemirror_mode": {
    "name": "ipython",
    "version": 3
   },
   "file_extension": ".py",
   "mimetype": "text/x-python",
   "name": "python",
   "nbconvert_exporter": "python",
   "pygments_lexer": "ipython3",
   "version": "3.8.7"
  },
  "orig_nbformat": 2,
  "kernelspec": {
   "name": "python387jvsc74a57bd01baa965d5efe3ac65b79dfc60c0d706280b1da80fedb7760faf2759126c4f253",
   "display_name": "Python 3.8.7 64-bit"
  },
  "metadata": {
   "interpreter": {
    "hash": "1baa965d5efe3ac65b79dfc60c0d706280b1da80fedb7760faf2759126c4f253"
   }
  }
 },
 "nbformat": 4,
 "nbformat_minor": 2,
 "cells": [
  {
   "cell_type": "code",
   "execution_count": null,
   "metadata": {},
   "outputs": [],
   "source": [
    "#TASK 1:\n",
    "import sys\n",
    "Order = []\n",
    "while True:\n",
    "    number = int(input(\"Enter 0 to exit, 1 for Starter, 2 for Main_course and 3 for Drinks  \"))\n",
    "    if number ==0:\n",
    "        print(\"Your Order list is  \", Order)\n",
    "        exit()\n",
    "    if number == 1:\n",
    "        value = str(input(\"Enter YES to add starter or NO to cancel\"))\n",
    "        if value.upper() == \"YES\":\n",
    "            print(\"Salad, Soup, Cheese Bites\")\n",
    "            starter = str(input(\"Enter the starter\"))\n",
    "            Order.append(starter)\n",
    "        else:\n",
    "            print(\"You didn't select Starter\")\n",
    "    elif number == 2:\n",
    "        value = str(input(\"Enter YES to add Main_course or NO to cancel\"))\n",
    "        if value.upper() == \"YES\":\n",
    "            print(\"Pasta, Shepherd's Pie, Burger\")\n",
    "            Main_course = str(input(\"Enter the Main_Course\"))\n",
    "            Order.append(Main_course)\n",
    "        else:\n",
    "            print(\"You didn't select Main_course\")\n",
    "    elif number == 3:        \n",
    "        value = str(input(\"Enter YES to add Drinks or NO to cancel\"))\n",
    "        if value.upper() == \"YES\":\n",
    "            print(\"Coke, Pepsi, Juice\")\n",
    "            drink = str(input(\"Enter the Drinks\"))\n",
    "            Order.append(drink)\n",
    "        else:\n",
    "            print(\"You didn't select Drink\")\n",
    "    else:\n",
    "        print(\"END\")"
   ]
  },
  {
   "cell_type": "code",
   "execution_count": 27,
   "metadata": {},
   "outputs": [
    {
     "output_type": "stream",
     "name": "stdout",
     "text": [
      "The price of bike is  2000  in year 2015\nThe price of bike is  1800.0  in year 2016\nThe price of bike is  1620.0  in year 2017\nThe price of bike is  1458.0  in year 2018\nThe price of bike is  1312.2  in year 2019\nThe price of bike is  1180.98  in year 2020\nThe price of bike is  1062.882  in year 2021\n"
     ]
    }
   ],
   "source": [
    "#TASK 2:\n",
    "def function(bike,year):\n",
    "    while bike > 1000:\n",
    "        print(\"The price of bike is \"+ \" \"+ str(bike) + \" \"+\" in year \"+ str(year))\n",
    "        bike = bike* 0.90\n",
    "        year = year + 1\n",
    "function(2000, 2015)"
   ]
  },
  {
   "cell_type": "code",
   "execution_count": null,
   "metadata": {},
   "outputs": [],
   "source": [
    "# TASK 3:\n",
    "def procedure(num1, num2):\n",
    "    value = str(input(\"Please Enter a Operator Choice (+,-,/,*,**,%,//)\"))\n",
    "    if value == \"+\":\n",
    "        print(num1+num2)\n",
    "    elif value == \"-\":\n",
    "        print(num1-num2)\n",
    "    elif value == \"/\":\n",
    "        print(num1/num2)\n",
    "    elif value == \"*\":\n",
    "        print(num1*num2)\n",
    "    elif value == \"**\":\n",
    "        print(num1**num2)\n",
    "    elif value == \"%\":\n",
    "        print(num1%num2)\n",
    "    elif value == \"//\":\n",
    "        print(num1//num2)\n",
    "    else:\n",
    "        print(\"You Entered Invalid Operator\")\n",
    "procedure(10,10)"
   ]
  }
 ]
}