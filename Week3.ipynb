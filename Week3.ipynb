{
 "metadata": {
  "language_info": {
   "codemirror_mode": {
    "name": "ipython",
    "version": 3
   },
   "file_extension": ".py",
   "mimetype": "text/x-python",
   "name": "python",
   "nbconvert_exporter": "python",
   "pygments_lexer": "ipython3",
   "version": "3.8.7"
  },
  "orig_nbformat": 2,
  "kernelspec": {
   "name": "python387jvsc74a57bd01baa965d5efe3ac65b79dfc60c0d706280b1da80fedb7760faf2759126c4f253",
   "display_name": "Python 3.8.7 64-bit"
  },
  "metadata": {
   "interpreter": {
    "hash": "1baa965d5efe3ac65b79dfc60c0d706280b1da80fedb7760faf2759126c4f253"
   }
  }
 },
 "nbformat": 4,
 "nbformat_minor": 2,
 "cells": [
  {
   "cell_type": "code",
   "execution_count": 99,
   "metadata": {},
   "outputs": [
    {
     "output_type": "stream",
     "name": "stdout",
     "text": [
      "0\n1\n2\n3\n\n"
     ]
    }
   ],
   "source": [
    "# Task 1\n",
    "#WRITE\n",
    "with open (\"number.txt\",\"w\") as data:\n",
    "    for i in range(4):\n",
    "        data.write(str(i) + \"\\n\")\n",
    "#READ\n",
    "with open (\"number.txt\",\"r\") as data:\n",
    "    read_file = data.read()\n",
    "    print(read_file)\n",
    "#APPEND\n",
    "with open (\"number.txt\",\"a\") as data:\n",
    "    data.write(str(10))\n"
   ]
  },
  {
   "cell_type": "code",
   "execution_count": 127,
   "metadata": {},
   "outputs": [
    {
     "output_type": "stream",
     "name": "stdout",
     "text": [
      "You didn't get passing Marks! \n"
     ]
    },
    {
     "output_type": "execute_result",
     "data": {
      "text/plain": [
       "('Total number you get are   ', 56.25)"
      ]
     },
     "metadata": {},
     "execution_count": 127
    }
   ],
   "source": [
    "#Task 2:\n",
    "def mark_grade(marks):\n",
    "    total_marks = 75\n",
    "    number = marks/100*total_marks\n",
    "    if number >= 95:\n",
    "        print(\"Your Grade is A*\")\n",
    "    elif number >= 90:\n",
    "        print(\"Your Grade is A\")\n",
    "    elif number >= 80:\n",
    "        print(\"Your Grade is B\")\n",
    "    elif number >= 70:\n",
    "        print(\"Your Grade is C\")   \n",
    "    elif number >= 60:\n",
    "        print(\"Your Grade is D\") \n",
    "    else:\n",
    "        print(\"You didn't get passing Marks! \")  \n",
    "    return \"Total number you get are   \",number          \n",
    "mark_grade(75)\n"
   ]
  },
  {
   "cell_type": "code",
   "execution_count": null,
   "metadata": {},
   "outputs": [],
   "source": []
  }
 ]
}